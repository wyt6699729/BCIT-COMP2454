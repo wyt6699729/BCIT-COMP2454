{
 "cells": [
  {
   "attachments": {},
   "cell_type": "markdown",
   "metadata": {},
   "source": [
    "Python array methond:\n",
    "\n",
    "1. append(element): Adds an element to the end of the array.\n",
    "2. extend(iterable): Appends elements from an iterable (such as a list or another array) to the end of the array.\n",
    "3. insert(index, element): Inserts an element at a specified index in the array.\n",
    "4. remove(element): Removes the first occurrence of the specified element from the array.\n",
    "5. pop(index=-1): Removes and returns the element at the specified index. If no index is provided, it removes and returns the last element.\n",
    "6. index(element): Returns the index of the first occurrence of the specified element in the array.\n",
    "7. count(element): Returns the number of occurrences of the specified element in the array.\n",
    "8. sort(): Sorts the elements in ascending order.\n",
    "9. reverse(): Reverses the order of the elements in the array.\n",
    "10. copy(): Returns a shallow copy of the array.\n",
    "11. clear(): Removes all elements from the array."
   ]
  }
 ],
 "metadata": {
  "language_info": {
   "name": "python"
  },
  "orig_nbformat": 4
 },
 "nbformat": 4,
 "nbformat_minor": 2
}
