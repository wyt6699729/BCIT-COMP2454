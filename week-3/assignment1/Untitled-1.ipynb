{
 "cells": [
  {
   "cell_type": "code",
   "execution_count": 29,
   "metadata": {},
   "outputs": [
    {
     "name": "stdout",
     "output_type": "stream",
     "text": [
      "------------------------------------------------------\n",
      "Stock Report Menu Options\n",
      "------------------------------------------------------\n",
      "1. Report changes for a stock\n",
      "2. Quit\n",
      "[*********************100%***********************]  1 of 1 completed"
     ]
    },
    {
     "name": "stderr",
     "output_type": "stream",
     "text": [
      "/var/folders/2t/kcm1sgh930nd2bq8t_2lfh1c0000gn/T/ipykernel_36765/2313801835.py:18: SettingWithCopyWarning: \n",
      "A value is trying to be set on a copy of a slice from a DataFrame.\n",
      "Try using .loc[row_indexer,col_indexer] = value instead\n",
      "\n",
      "See the caveats in the documentation: https://pandas.pydata.org/pandas-docs/stable/user_guide/indexing.html#returning-a-view-versus-a-copy\n",
      "  df['Volume % Change'] = df['Volume'].pct_change().fillna(0)\n",
      "/var/folders/2t/kcm1sgh930nd2bq8t_2lfh1c0000gn/T/ipykernel_36765/2313801835.py:20: SettingWithCopyWarning: \n",
      "A value is trying to be set on a copy of a slice from a DataFrame.\n",
      "Try using .loc[row_indexer,col_indexer] = value instead\n",
      "\n",
      "See the caveats in the documentation: https://pandas.pydata.org/pandas-docs/stable/user_guide/indexing.html#returning-a-view-versus-a-copy\n",
      "  df['Close % Change'] = df['Close'].pct_change().fillna(0)\n"
     ]
    },
    {
     "name": "stdout",
     "output_type": "stream",
     "text": [
      "\n",
      "0.003\n",
      "Daily Percent Change - 2023-06-13 to 2023-06-15 * AAPL *\n",
      "******************************************************\n",
      "                 Close    Volume  Volume % Change  Close % Change\n",
      "Date                                                             \n",
      "2023-06-13  183.309998  54929100         0.000000        0.000000\n",
      "2023-06-14  183.949997  57462900         0.046129        0.003491\n",
      "\n",
      "------------------------------------------------------\n",
      "Summary of Cumulative Change for AAPL\n",
      "\n",
      "------------------------------------------------------\n",
      "% Volume Change: 0.046\n",
      "% Close Change: 0.003\n",
      "Do you want to run another report?\n",
      "Goodbye!\n"
     ]
    }
   ],
   "source": [
    "import pandas as pd\n",
    "import datetime\n",
    "import yfinance as yf\n",
    "\n",
    "# Allow the full width of the dataframe to be displayed\n",
    "pd.set_option('display.width', 1000)\n",
    "pd.set_option('display.max_colwidth', None)\n",
    "\n",
    "def getStock(stkInput, dayInput):\n",
    "    dt = datetime.date.today()\n",
    "    dtPast = dt - datetime.timedelta(days=dayInput)\n",
    "\n",
    "    # Call Yahoo finance to get stock data for the stock provided\n",
    "    dfStock = yf.download(stkInput, start=dtPast, end=dt)\n",
    "    # df = dfStock.iloc[:, 3:6]\n",
    "    df = dfStock[['Close', 'Volume']]\n",
    "    # % Volume change and fill NaN with 0\n",
    "    df['Volume % Change'] = df['Volume'].pct_change().fillna(0)\n",
    "    # %Close change and fill NaN with 0\n",
    "    df['Close % Change'] = df['Close'].pct_change().fillna(0)\n",
    "    # overall %change for Close and round to 3 decimal places\n",
    "    overallCloseChange = round((df['Close'].iloc[-1] - df['Close'].iloc[0]) / df['Close'].iloc[0], 3)\n",
    "    # overall %change for Volume and round to 3 decimal places\n",
    "    overallVolumeChange = round((df['Volume'].iloc[-1] - df['Volume'].iloc[0]) / df['Volume'].iloc[0], 3)\n",
    "    print(overallCloseChange)\n",
    "    print(f'Daily Percent Change - {dtPast} to {dt} * {stkInput} *')\n",
    "    print('******************************************************')\n",
    "    print(df)\n",
    "    print('\\n------------------------------------------------------')\n",
    "    print(f'Summary of Cumulative Change for {stkInput}')\n",
    "    print('\\n------------------------------------------------------')\n",
    "    print(f'% Volume Change: {overallVolumeChange}')\n",
    "    print(f'% Close Change: {overallCloseChange}')\n",
    "\n",
    "def stockReportMenu():\n",
    "    print('------------------------------------------------------')\n",
    "    print('Stock Report Menu Options')\n",
    "    print('------------------------------------------------------')\n",
    "    print('1. Report changes for a stock')\n",
    "    print('2. Quit')\n",
    "\n",
    "def stockReport():\n",
    "    stockReportMenu() \n",
    "    response = int(input('Enter your choice: '))\n",
    "    if response == 1:\n",
    "        stock = input('Please enter the stock symbol: ').upper()\n",
    "        days = int(input('Please enter the number of days for the analysis: '))\n",
    "        getStock(stock, days)\n",
    "        print('Do you want to run another report?')\n",
    "        if input('Enter Y for yes or N for no: ').upper() == 'Y':\n",
    "            stockReport()\n",
    "        elif input('Enter Y for yes or N for no: ').upper() == 'N':\n",
    "            print('Goodbye!')\n",
    "        else:\n",
    "            print('Invalid choice. Please try again.')\n",
    "            stockReport()\n",
    "    elif response == 2:\n",
    "        print('Goodbye!')\n",
    "    else:\n",
    "        print('Invalid choice. Please try again.')\n",
    "        stockReport()\n",
    "\n",
    "stockReport()\n",
    "  \n"
   ]
  }
 ],
 "metadata": {
  "kernelspec": {
   "display_name": "base",
   "language": "python",
   "name": "python3"
  },
  "language_info": {
   "codemirror_mode": {
    "name": "ipython",
    "version": 3
   },
   "file_extension": ".py",
   "mimetype": "text/x-python",
   "name": "python",
   "nbconvert_exporter": "python",
   "pygments_lexer": "ipython3",
   "version": "3.10.11"
  },
  "orig_nbformat": 4
 },
 "nbformat": 4,
 "nbformat_minor": 2
}
