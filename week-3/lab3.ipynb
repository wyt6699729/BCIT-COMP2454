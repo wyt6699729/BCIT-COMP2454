{
 "cells": [
  {
   "attachments": {},
   "cell_type": "markdown",
   "metadata": {},
   "source": [
    "Excerise 1"
   ]
  },
  {
   "cell_type": "code",
   "execution_count": 7,
   "metadata": {},
   "outputs": [],
   "source": [
    "# Starting code\n",
    "import pandas as pd\n",
    "\n",
    "path = 'datasets/bodyfat.txt'\n",
    "df = pd.read_csv(path, skiprows=1, \n",
    "                sep='\\t',\n",
    "                names=['Density', 'Pct.BF', 'Age', 'Weight', 'Height', 'Neck', 'Chest', 'Abdomen', 'Waist', 'Hip' 'Thigh', 'Ankle', 'Knee', 'Biceps', 'Forearm', 'Wrist'])\n",
    "# Show all columns\n",
    "pd.set_option('display.max_columns', None)\n",
    "\n",
    "# Increase number of columns to display on one line\n",
    "pd.set_option('display.width', 1000)"
   ]
  },
  {
   "cell_type": "code",
   "execution_count": 8,
   "metadata": {},
   "outputs": [
    {
     "name": "stdout",
     "output_type": "stream",
     "text": [
      "        Density  Percent Body Fact     Age  Weight  Height   Neck  Chest    Abdomen  Waist  HipThigh  Ankle  Knee  Biceps  Forearm  Wrist\n",
      "1.0708     12.3                 23  154.25   67.75    36.2   93.1   85.2  33.543307   94.5      59.0   37.3  21.9    32.0     27.4   17.1\n",
      "1.0853      6.1                 22  173.25   72.25    38.5   93.6   83.0  32.677165   98.7      58.7   37.3  23.4    30.5     28.9   18.2\n",
      "1.0414     25.3                 22  154.00   66.25    34.0   95.8   87.9  34.606299   99.2      59.6   38.9  24.0    28.8     25.2   16.6\n",
      "1.0751     10.4                 26  184.75   72.25    37.4  101.8   86.4  34.015748  101.2      60.1   37.3  22.8    32.4     29.4   18.2\n",
      "1.0340     28.7                 24  184.25   71.25    34.4   97.3  100.0  39.370079  101.9      63.2   42.2  24.0    32.2     27.7   17.7\n"
     ]
    }
   ],
   "source": [
    "df = df.rename(columns={'Pct.BF': 'Percent Body Fact'})\n",
    "\n",
    "print(df.head())"
   ]
  },
  {
   "attachments": {},
   "cell_type": "markdown",
   "metadata": {},
   "source": [
    "Excerise 2"
   ]
  },
  {
   "cell_type": "code",
   "execution_count": 11,
   "metadata": {},
   "outputs": [
    {
     "name": "stdout",
     "output_type": "stream",
     "text": [
      "   Mom Age  Dad Age  Mom Education  MomMarital  numlive  dobmm  gestation sex  Weight  prenatalstart  orig.id  preemie\n",
      "0       35     35.0           17.0           1        2      2         39   F    3175            1.0  1047483    False\n",
      "1       22     21.0           12.0           1        1      3         42   F    3884            2.0  1468100    False\n",
      "2       35     42.0           15.0           1        0      6         39   F    3030            2.0  2260016    False\n",
      "3       23      NaN            6.0           1        2      8         40   F    3629            1.0  3583052    False\n",
      "4       23     28.0           13.0           1        0      9         42   F    3481            2.0   795674    False\n"
     ]
    }
   ],
   "source": [
    "import pandas as pd\n",
    "\n",
    "# Import data into a DataFrame\n",
    "path = 'datasets/babysamp-98.txt'\n",
    "\n",
    "df = pd.read_csv(path, skiprows=1, sep='\\t',\n",
    "                 names=['MomAge', 'DadAge', 'MonEduc', 'MomMarital', 'numlive',\n",
    "                        'dobmm', 'gestation', 'sex', 'weight', 'prenatalstart',\n",
    "                        'orig.id', 'preemie']\n",
    "                 )\n",
    "\n",
    "# Rename the columns so they are more reader-friendly\n",
    "df = df.rename(columns={'MomAge': 'Mom Age', 'DadAge': 'Dad Age', 'MonEduc': 'Mom Education', 'weight': 'Weight'})\n",
    "\n",
    "# Show all columns\n",
    "pd.set_option('display.max_columns', None)\n",
    "\n",
    "# Increase number of columns to display on one line\n",
    "pd.set_option('display.width', 1000)\n",
    "\n",
    "print(df.head())\n"
   ]
  },
  {
   "cell_type": "code",
   "execution_count": 15,
   "metadata": {},
   "outputs": [
    {
     "name": "stdout",
     "output_type": "stream",
     "text": [
      "\n",
      "TOP FREQUENCY FIRST\n",
      "Mom Age\n",
      "20    16\n",
      "22    13\n",
      "24    13\n",
      "23    12\n",
      "27    12\n",
      "21    11\n",
      "19    10\n",
      "30     9\n",
      "29     9\n",
      "33     9\n",
      "26     9\n",
      "36     8\n",
      "25     8\n",
      "31     7\n",
      "18     6\n",
      "28     6\n",
      "34     6\n",
      "32     6\n",
      "37     6\n",
      "35     5\n",
      "40     3\n",
      "17     3\n",
      "41     3\n",
      "15     3\n",
      "16     2\n",
      "38     2\n",
      "42     1\n",
      "39     1\n",
      "14     1\n",
      "Name: count, dtype: int64\n",
      "\n",
      "LOWEST FREQUENCY FIRST\n",
      "Mom Age\n",
      "14     1\n",
      "42     1\n",
      "39     1\n",
      "38     2\n",
      "16     2\n",
      "15     3\n",
      "40     3\n",
      "41     3\n",
      "17     3\n",
      "35     5\n",
      "18     6\n",
      "28     6\n",
      "34     6\n",
      "37     6\n",
      "32     6\n",
      "31     7\n",
      "36     8\n",
      "25     8\n",
      "30     9\n",
      "26     9\n",
      "33     9\n",
      "29     9\n",
      "19    10\n",
      "21    11\n",
      "27    12\n",
      "23    12\n",
      "22    13\n",
      "24    13\n",
      "20    16\n",
      "Name: count, dtype: int64\n",
      "\n",
      "FREQUNCY SORTED by Mom Age\n",
      "Mom Age\n",
      "14     1\n",
      "15     3\n",
      "16     2\n",
      "17     3\n",
      "18     6\n",
      "19    10\n",
      "20    16\n",
      "21    11\n",
      "22    13\n",
      "23    12\n",
      "24    13\n",
      "25     8\n",
      "26     9\n",
      "27    12\n",
      "28     6\n",
      "29     9\n",
      "30     9\n",
      "31     7\n",
      "32     6\n",
      "33     9\n",
      "34     6\n",
      "35     5\n",
      "36     8\n",
      "37     6\n",
      "38     2\n",
      "39     1\n",
      "40     3\n",
      "41     3\n",
      "42     1\n",
      "Name: count, dtype: int64\n"
     ]
    }
   ],
   "source": [
    "print('\\nTOP FREQUENCY FIRST')\n",
    "print(df['Mom Age'].value_counts())\n",
    "\n",
    "print('\\nLOWEST FREQUENCY FIRST')\n",
    "print(df['Mom Age'].value_counts(ascending=True))\n",
    "\n",
    "print('\\nFREQUNCY SORTED by Mom Age')\n",
    "print(df['Mom Age'].value_counts().sort_index())"
   ]
  },
  {
   "cell_type": "code",
   "execution_count": 16,
   "metadata": {},
   "outputs": [
    {
     "name": "stdout",
     "output_type": "stream",
     "text": [
      "\n",
      "FREQUNCY SORTED by Mom Education\n",
      "Mom Education\n",
      "2.0      1\n",
      "3.0      1\n",
      "5.0      2\n",
      "6.0      4\n",
      "7.0      2\n",
      "8.0      6\n",
      "10.0     8\n",
      "11.0    13\n",
      "12.0    58\n",
      "13.0    16\n",
      "14.0    27\n",
      "15.0     9\n",
      "16.0    30\n",
      "17.0    11\n",
      "Name: count, dtype: int64\n"
     ]
    }
   ],
   "source": [
    "# count of unique values for Mother education sorted by education level\n",
    "df_momeduc = df['Mom Education'].value_counts().sort_index()\n",
    "\n",
    "print('\\nFREQUNCY SORTED by Mom Education')\n",
    "print(df_momeduc)"
   ]
  },
  {
   "attachments": {},
   "cell_type": "markdown",
   "metadata": {},
   "source": [
    "Excerise 3"
   ]
  },
  {
   "cell_type": "code",
   "execution_count": 18,
   "metadata": {},
   "outputs": [
    {
     "name": "stdout",
     "output_type": "stream",
     "text": [
      "\n",
      "SORTED by gestation and weight\n",
      "    Mom Age  Dad Age  Mom Education  MomMarital  numlive  dobmm  gestation sex  Weight  prenatalstart  orig.id  preemie\n",
      "82       16      NaN            NaN           2        0     11         23   F    1049            2.0  1578022     True\n",
      "93       33     31.0            NaN           1        1      7         27   F     907            2.0  3456969     True\n",
      "38       23      NaN            NaN           2        2     11         33   M    1671            1.0  2855152     True\n",
      "14       32     38.0           12.0           1        0      4         33   M    1729            2.0  3037162     True\n",
      "83       18     18.0            NaN           2        1     11         33   F    2560            2.0  1283550     True\n"
     ]
    }
   ],
   "source": [
    "dfSorted = df.sort_values(by=['gestation', 'Weight'], ascending=[True, True])\n",
    "\n",
    "print('\\nSORTED by gestation and weight')\n",
    "print(dfSorted.head())"
   ]
  },
  {
   "attachments": {},
   "cell_type": "markdown",
   "metadata": {},
   "source": [
    "Excerise 4"
   ]
  },
  {
   "cell_type": "code",
   "execution_count": 20,
   "metadata": {},
   "outputs": [
    {
     "name": "stdout",
     "output_type": "stream",
     "text": [
      "\n",
      "Mom Age count:  200\n",
      "\n",
      "Mom Age min:  14\n",
      "\n",
      "Mom Age max:  42\n",
      "\n",
      "Mom Age mean:  26.585\n",
      "\n",
      "Mom Age median:  26.0\n",
      "\n",
      "Mom Age mode:  6.484056596741637\n"
     ]
    }
   ],
   "source": [
    "df_momAge = df['Mom Age']\n",
    "\n",
    "print('\\nMom Age count: ', df_momAge.count())\n",
    "print('\\nMom Age min: ', df_momAge.min())\n",
    "print('\\nMom Age max: ', df_momAge.max())\n",
    "print('\\nMom Age mean: ', df_momAge.mean())\n",
    "print('\\nMom Age median: ', df_momAge.median())\n",
    "print('\\nMom Age mode: ', df_momAge.std())"
   ]
  },
  {
   "attachments": {},
   "cell_type": "markdown",
   "metadata": {},
   "source": [
    "Excercise 5"
   ]
  },
  {
   "cell_type": "code",
   "execution_count": 28,
   "metadata": {},
   "outputs": [
    {
     "name": "stdout",
     "output_type": "stream",
     "text": [
      "    network  Duration Mean\n",
      "0    Meteor      83.137931\n",
      "1     Tesco     164.773810\n",
      "2     Three     170.004651\n",
      "3  Vodafone      68.697674\n",
      "4      data      34.429000\n"
     ]
    }
   ],
   "source": [
    "import pandas as pd\n",
    "\n",
    "# The data file path and file name need to be configured\n",
    "path = 'datasets/phone_data.csv'\n",
    "\n",
    "df = pd.read_csv(path, skiprows=1, sep=',', encoding='ISO-8859-1',\n",
    "                 names=['index', 'date', 'duration', 'item', 'month', 'network', 'network_type']\n",
    "                 )\n",
    "# Get count of items per month\n",
    "dfStats = df.groupby('network')['index'].count().reset_index().rename(columns={'index': '#Calls'})\n",
    "\n",
    "# Get duration mean for network group and convert to DataFrame\n",
    "dfDurationMean = df.groupby('network')['duration'].mean().reset_index(name='Duration Mean')\n",
    "\n",
    "# Get duration max for network group and convert to DataFrame\n",
    "dfDurationMax = df.groupby('network')['duration'].max().reset_index(name='Duration Max')\n",
    "\n",
    "# Get duration min for network group and convert to DataFrame\n",
    "dfDurationMin = df.groupby('network')['duration'].min().reset_index(name='Duration Min')\n",
    "\n",
    "# Get duration standard deviation for network group and convert to DataFrame\n",
    "dfDurationStd = df.groupby('network')['duration'].std().reset_index(name='Duration Std')\n"
   ]
  },
  {
   "attachments": {},
   "cell_type": "markdown",
   "metadata": {},
   "source": [
    "Excercise 6"
   ]
  },
  {
   "cell_type": "code",
   "execution_count": 34,
   "metadata": {},
   "outputs": [
    {
     "ename": "KeyError",
     "evalue": "'network_type'",
     "output_type": "error",
     "traceback": [
      "\u001b[0;31m---------------------------------------------------------------------------\u001b[0m",
      "\u001b[0;31mKeyError\u001b[0m                                  Traceback (most recent call last)",
      "Cell \u001b[0;32mIn[34], line 2\u001b[0m\n\u001b[1;32m      1\u001b[0m \u001b[39m# Get total calls per network type and convert to DataFrame\u001b[39;00m\n\u001b[0;32m----> 2\u001b[0m dfTotalCalls \u001b[39m=\u001b[39m df\u001b[39m.\u001b[39;49mgroupby(\u001b[39m'\u001b[39;49m\u001b[39mnetwork_type\u001b[39;49m\u001b[39m'\u001b[39;49m)[\u001b[39m'\u001b[39m\u001b[39mindex\u001b[39m\u001b[39m'\u001b[39m]\u001b[39m.\u001b[39mcount()\u001b[39m.\u001b[39mreset_index()\u001b[39m.\u001b[39mrename(columns\u001b[39m=\u001b[39m{\u001b[39m'\u001b[39m\u001b[39mindex\u001b[39m\u001b[39m'\u001b[39m: \u001b[39m'\u001b[39m\u001b[39mtotal_calls\u001b[39m\u001b[39m'\u001b[39m})\n\u001b[1;32m      4\u001b[0m \u001b[39m# Get duration mean per network type and convert to DataFrame\u001b[39;00m\n\u001b[1;32m      5\u001b[0m dfDurationMeanType \u001b[39m=\u001b[39m df\u001b[39m.\u001b[39mgroupby(\u001b[39m'\u001b[39m\u001b[39mnetwork_type\u001b[39m\u001b[39m'\u001b[39m)[\u001b[39m'\u001b[39m\u001b[39mduration\u001b[39m\u001b[39m'\u001b[39m]\u001b[39m.\u001b[39mmean()\u001b[39m.\u001b[39mreset_index(name\u001b[39m=\u001b[39m\u001b[39m'\u001b[39m\u001b[39mDuration Mean\u001b[39m\u001b[39m'\u001b[39m)\n",
      "File \u001b[0;32m~/anaconda3/lib/python3.10/site-packages/pandas/core/frame.py:8252\u001b[0m, in \u001b[0;36mDataFrame.groupby\u001b[0;34m(self, by, axis, level, as_index, sort, group_keys, observed, dropna)\u001b[0m\n\u001b[1;32m   8249\u001b[0m     \u001b[39mraise\u001b[39;00m \u001b[39mTypeError\u001b[39;00m(\u001b[39m\"\u001b[39m\u001b[39mYou have to supply one of \u001b[39m\u001b[39m'\u001b[39m\u001b[39mby\u001b[39m\u001b[39m'\u001b[39m\u001b[39m and \u001b[39m\u001b[39m'\u001b[39m\u001b[39mlevel\u001b[39m\u001b[39m'\u001b[39m\u001b[39m\"\u001b[39m)\n\u001b[1;32m   8250\u001b[0m axis \u001b[39m=\u001b[39m \u001b[39mself\u001b[39m\u001b[39m.\u001b[39m_get_axis_number(axis)\n\u001b[0;32m-> 8252\u001b[0m \u001b[39mreturn\u001b[39;00m DataFrameGroupBy(\n\u001b[1;32m   8253\u001b[0m     obj\u001b[39m=\u001b[39;49m\u001b[39mself\u001b[39;49m,\n\u001b[1;32m   8254\u001b[0m     keys\u001b[39m=\u001b[39;49mby,\n\u001b[1;32m   8255\u001b[0m     axis\u001b[39m=\u001b[39;49maxis,\n\u001b[1;32m   8256\u001b[0m     level\u001b[39m=\u001b[39;49mlevel,\n\u001b[1;32m   8257\u001b[0m     as_index\u001b[39m=\u001b[39;49mas_index,\n\u001b[1;32m   8258\u001b[0m     sort\u001b[39m=\u001b[39;49msort,\n\u001b[1;32m   8259\u001b[0m     group_keys\u001b[39m=\u001b[39;49mgroup_keys,\n\u001b[1;32m   8260\u001b[0m     observed\u001b[39m=\u001b[39;49mobserved,\n\u001b[1;32m   8261\u001b[0m     dropna\u001b[39m=\u001b[39;49mdropna,\n\u001b[1;32m   8262\u001b[0m )\n",
      "File \u001b[0;32m~/anaconda3/lib/python3.10/site-packages/pandas/core/groupby/groupby.py:931\u001b[0m, in \u001b[0;36mGroupBy.__init__\u001b[0;34m(self, obj, keys, axis, level, grouper, exclusions, selection, as_index, sort, group_keys, observed, dropna)\u001b[0m\n\u001b[1;32m    928\u001b[0m \u001b[39mself\u001b[39m\u001b[39m.\u001b[39mdropna \u001b[39m=\u001b[39m dropna\n\u001b[1;32m    930\u001b[0m \u001b[39mif\u001b[39;00m grouper \u001b[39mis\u001b[39;00m \u001b[39mNone\u001b[39;00m:\n\u001b[0;32m--> 931\u001b[0m     grouper, exclusions, obj \u001b[39m=\u001b[39m get_grouper(\n\u001b[1;32m    932\u001b[0m         obj,\n\u001b[1;32m    933\u001b[0m         keys,\n\u001b[1;32m    934\u001b[0m         axis\u001b[39m=\u001b[39;49maxis,\n\u001b[1;32m    935\u001b[0m         level\u001b[39m=\u001b[39;49mlevel,\n\u001b[1;32m    936\u001b[0m         sort\u001b[39m=\u001b[39;49msort,\n\u001b[1;32m    937\u001b[0m         observed\u001b[39m=\u001b[39;49mobserved,\n\u001b[1;32m    938\u001b[0m         dropna\u001b[39m=\u001b[39;49m\u001b[39mself\u001b[39;49m\u001b[39m.\u001b[39;49mdropna,\n\u001b[1;32m    939\u001b[0m     )\n\u001b[1;32m    941\u001b[0m \u001b[39mself\u001b[39m\u001b[39m.\u001b[39mobj \u001b[39m=\u001b[39m obj\n\u001b[1;32m    942\u001b[0m \u001b[39mself\u001b[39m\u001b[39m.\u001b[39maxis \u001b[39m=\u001b[39m obj\u001b[39m.\u001b[39m_get_axis_number(axis)\n",
      "File \u001b[0;32m~/anaconda3/lib/python3.10/site-packages/pandas/core/groupby/grouper.py:985\u001b[0m, in \u001b[0;36mget_grouper\u001b[0;34m(obj, key, axis, level, sort, observed, validate, dropna)\u001b[0m\n\u001b[1;32m    983\u001b[0m         in_axis, level, gpr \u001b[39m=\u001b[39m \u001b[39mFalse\u001b[39;00m, gpr, \u001b[39mNone\u001b[39;00m\n\u001b[1;32m    984\u001b[0m     \u001b[39melse\u001b[39;00m:\n\u001b[0;32m--> 985\u001b[0m         \u001b[39mraise\u001b[39;00m \u001b[39mKeyError\u001b[39;00m(gpr)\n\u001b[1;32m    986\u001b[0m \u001b[39melif\u001b[39;00m \u001b[39misinstance\u001b[39m(gpr, Grouper) \u001b[39mand\u001b[39;00m gpr\u001b[39m.\u001b[39mkey \u001b[39mis\u001b[39;00m \u001b[39mnot\u001b[39;00m \u001b[39mNone\u001b[39;00m:\n\u001b[1;32m    987\u001b[0m     \u001b[39m# Add key to exclusions\u001b[39;00m\n\u001b[1;32m    988\u001b[0m     exclusions\u001b[39m.\u001b[39madd(gpr\u001b[39m.\u001b[39mkey)\n",
      "\u001b[0;31mKeyError\u001b[0m: 'network_type'"
     ]
    }
   ],
   "source": [
    "# Get total calls per network type and convert to DataFrame\n",
    "dfTotalCalls = df.groupby('network_type')['index'].count().reset_index().rename(columns={'index': 'total_calls'})\n",
    "\n",
    "# Get duration mean per network type and convert to DataFrame\n",
    "dfDurationMeanType = df.groupby('network_type')['duration'].mean().reset_index(name='Duration Mean')\n",
    "\n",
    "# Get duration max per network type and convert to DataFrame\n",
    "dfDurationMaxType = df.groupby('network_type')['duration'].max().reset_index(name='Duration Max')\n",
    "\n",
    "# Get duration min per network type and convert to DataFrame\n",
    "dfDurationMinType = df.groupby('network_type')['duration'].min().reset_index(name='Duration Min')\n",
    "\n",
    "# Get duration standard deviation per network type and convert to DataFrame\n",
    "dfDurationStdType = df.groupby('network_type')['duration'].std().reset_index(name='Duration Std')"
   ]
  },
  {
   "attachments": {},
   "cell_type": "markdown",
   "metadata": {},
   "source": [
    "Excercise 7"
   ]
  },
  {
   "cell_type": "code",
   "execution_count": 36,
   "metadata": {},
   "outputs": [
    {
     "name": "stdout",
     "output_type": "stream",
     "text": [
      "  sex  Weight Max  Weight Min\n",
      "0   F        4825         907\n",
      "1   M        4593        1671\n"
     ]
    }
   ],
   "source": [
    "path = 'datasets/babysamp-98.txt'\n",
    "\n",
    "df = pd.read_csv(path, sep='\\t')\n",
    "\n",
    "# Get min weight by sex\n",
    "dfWeightMin = df.groupby('sex')['weight'].min().reset_index(name='Weight Min')\n",
    "\n",
    "# Get max weight by sex\n",
    "dfWeightMax = df.groupby('sex')['weight'].max().reset_index(name='Weight Max')\n",
    "\n",
    "# Get mean weight by sex\n",
    "dfWeightMean = df.groupby('sex')['weight'].mean().reset_index(name='Weight Mean')\n"
   ]
  },
  {
   "attachments": {},
   "cell_type": "markdown",
   "metadata": {},
   "source": [
    "Exercise 8"
   ]
  },
  {
   "cell_type": "code",
   "execution_count": 37,
   "metadata": {},
   "outputs": [
    {
     "name": "stdout",
     "output_type": "stream",
     "text": [
      "   Fahrenheit    Celsius      Kelvin\n",
      "0          85  29.444444  302.594444\n",
      "1          95  35.000000  308.150000\n",
      "2          91  32.777778  305.927778\n"
     ]
    }
   ],
   "source": [
    "import pandas as pd\n",
    "\n",
    "# Create a dateset\n",
    "dataSet = {'Fahrenheit': [85, 95, 91]}\n",
    "\n",
    "# Create dataframe with dataset and named columns\n",
    "# Column names must match the dataset properties\n",
    "\n",
    "df = pd.DataFrame(dataSet, columns=['Fahrenheit'])\n",
    "\n",
    "df['Celsius'] = (df['Fahrenheit'] - 32) * 5 / 9\n",
    "df['Kelvin'] = df['Celsius'] + 273.15\n",
    "\n",
    "print(df)"
   ]
  },
  {
   "attachments": {},
   "cell_type": "markdown",
   "metadata": {},
   "source": [
    "Excercise 9"
   ]
  },
  {
   "cell_type": "code",
   "execution_count": 38,
   "metadata": {},
   "outputs": [
    {
     "name": "stdout",
     "output_type": "stream",
     "text": [
      "  network_type  item  Count\n",
      "0         data  data    150\n",
      "1     landline  call     42\n",
      "2       mobile  call    319\n",
      "3       mobile   sms    282\n",
      "4      special   sms      3\n",
      "5    voicemail  call     27\n",
      "6        world   sms      7\n"
     ]
    }
   ],
   "source": [
    "import pandas as pd\n",
    "\n",
    "path = 'datasets/phone_data.csv'\n",
    "df = pd.read_csv(path, skiprows=1, sep=',', encoding='ISO-8859-1',names=['index', 'date', 'duration', 'item', 'month', 'network', 'network_type'])\n",
    "\n",
    "# Get total count for network type and item\n",
    "\n",
    "df2 = df.groupby(['network_type', 'item'])['index'].count().reset_index(name='Count')\n",
    "\n",
    "print(df2)"
   ]
  },
  {
   "attachments": {},
   "cell_type": "markdown",
   "metadata": {},
   "source": [
    "Exerrcise 10"
   ]
  },
  {
   "cell_type": "code",
   "execution_count": 24,
   "metadata": {},
   "outputs": [
    {
     "name": "stdout",
     "output_type": "stream",
     "text": [
      "DataFrame with original data in Celsius\n",
      "      City  Temperature\n",
      "0   Mumbai         23.0\n",
      "1  Beijing        -11.0\n",
      "\n",
      "DataFrame with updated data in Fahrenheit\n",
      "                  City  Temperature\n",
      "0   The city of Mumbai         73.4\n",
      "1  The city of Beijing         12.2\n"
     ]
    }
   ],
   "source": [
    "import pandas as pd\n",
    "\n",
    "df1 = pd.DataFrame({'City': ['Mumbai'], 'Temperature': [23.0]})\n",
    "df2 = pd.DataFrame({'City': ['Beijing'], 'Temperature': [-11.0]})\n",
    "df = pd.concat([df1, df2]).reset_index(drop=True)\n",
    "\n",
    "# Show original data frame\n",
    "print('DataFrame with original data in Celsius')\n",
    "print(df)\n",
    "\n",
    "# Show all columns of the data frame\n",
    "def getColumnPosition(df, columnName):\n",
    "    colList = df.columns.tolist()\n",
    "    columnPosition = 0\n",
    "    for i in range(len(colList)):\n",
    "        if colList[i] == columnName:\n",
    "            columnPosition = i\n",
    "            break         \n",
    "    return columnPosition\n",
    "\n",
    "# Update cell values - one at a time\n",
    "tempColumnPosition = getColumnPosition(df, 'Temperature')\n",
    "\n",
    "for i in range(len(df)):\n",
    "    celsius = df.iloc[i, tempColumnPosition]\n",
    "    city = df.iloc[i, getColumnPosition(df, 'City')]\n",
    "\n",
    "    df.iat[i, tempColumnPosition] = (celsius * 9 / 5) + 32\n",
    "    df.iat[i, getColumnPosition(df, 'City')] = 'The city of ' + city\n",
    "\n",
    "print('\\nDataFrame with updated data in Fahrenheit')\n",
    "print(df)\n",
    "\n"
   ]
  },
  {
   "attachments": {},
   "cell_type": "markdown",
   "metadata": {},
   "source": [
    "Exercise 11"
   ]
  },
  {
   "cell_type": "code",
   "execution_count": 26,
   "metadata": {},
   "outputs": [
    {
     "name": "stdout",
     "output_type": "stream",
     "text": [
      "233\n",
      "233\n"
     ]
    }
   ],
   "source": [
    "unformattedFloat = 233.654\n",
    "wholeNumber = int(unformattedFloat)\n",
    "print(wholeNumber)\n",
    "\n",
    "newFormattedInt = int(wholeNumber)\n",
    "print(newFormattedInt)"
   ]
  }
 ],
 "metadata": {
  "kernelspec": {
   "display_name": "base",
   "language": "python",
   "name": "python3"
  },
  "language_info": {
   "codemirror_mode": {
    "name": "ipython",
    "version": 3
   },
   "file_extension": ".py",
   "mimetype": "text/x-python",
   "name": "python",
   "nbconvert_exporter": "python",
   "pygments_lexer": "ipython3",
   "version": "3.10.11"
  },
  "orig_nbformat": 4
 },
 "nbformat": 4,
 "nbformat_minor": 2
}
