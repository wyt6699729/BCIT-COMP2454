{
 "cells": [
  {
   "cell_type": "code",
   "execution_count": 23,
   "metadata": {},
   "outputs": [
    {
     "name": "stdout",
     "output_type": "stream",
     "text": [
      "   age  sex  cp  trestbps  chol  fbs  restecg  thalach  exang  oldpeak  slope  ca  thal  target\n",
      "0   63    1   3       145   233    1        0      150      0      2.3      0   0     1       1\n",
      "1   37    1   2       130   250    0        1      187      0      3.5      0   0     2       1\n",
      "2   41    0   1       130   204    0        0      172      0      1.4      2   0     2       1\n",
      "3   56    1   1       120   236    0        1      178      0      0.8      2   0     2       1\n",
      "4   57    0   0       120   354    0        1      163      1      0.6      2   0     2       1\n"
     ]
    }
   ],
   "source": [
    "import pandas as pd\n",
    "\n",
    "path = 'datasets/heart_original.csv'\n",
    "df = pd.read_csv(path)\n",
    "pd.set_option('display.max_columns', None)\n",
    "pd.set_option('display.width', 1000)\n",
    "\n",
    "print(df.head())"
   ]
  },
  {
   "cell_type": "code",
   "execution_count": 35,
   "metadata": {},
   "outputs": [
    {
     "name": "stdout",
     "output_type": "stream",
     "text": [
      "   age  Mean_Cholesterol_Level  total_people\n",
      "0   29              204.000000             1\n",
      "1   34              196.000000             2\n",
      "2   35              213.750000             4\n",
      "3   37              232.500000             2\n",
      "4   38              193.666667             3\n"
     ]
    }
   ],
   "source": [
    "dfMeanChol = df.groupby('age')['chol'].mean().sort_index().rename('Mean_Cholesterol_Level').reset_index()\n",
    "dfTotalPeople = df.groupby('age')['age'].count().sort_index().rename('total_people').reset_index(drop=True)\n",
    "dfMerge = pd.concat([dfMeanChol, dfTotalPeople], axis=1).reset_index(drop=True)\n",
    "\n",
    "print(dfMerge.head())"
   ]
  },
  {
   "cell_type": "code",
   "execution_count": 34,
   "metadata": {},
   "outputs": [
    {
     "name": "stdout",
     "output_type": "stream",
     "text": [
      "29 204.0\n",
      "34 196.0\n",
      "35 213.75\n",
      "37 232.5\n",
      "38 193.66666666666666\n",
      "39 239.75\n",
      "40 196.33333333333334\n",
      "41 220.7\n",
      "42 246.75\n",
      "43 256.75\n",
      "44 221.36363636363637\n",
      "45 247.375\n",
      "46 230.28571428571428\n",
      "47 246.4\n",
      "48 250.85714285714286\n",
      "49 228.6\n",
      "50 227.0\n",
      "51 258.6666666666667\n",
      "52 228.23076923076923\n",
      "53 233.5\n",
      "54 253.3125\n",
      "55 280.625\n",
      "56 259.3636363636364\n",
      "57 238.52941176470588\n",
      "58 254.52631578947367\n",
      "59 239.85714285714286\n",
      "60 245.54545454545453\n",
      "61 243.75\n",
      "62 256.6363636363636\n",
      "63 258.22222222222223\n",
      "64 274.4\n",
      "65 279.0\n",
      "66 245.71428571428572\n",
      "67 286.77777777777777\n",
      "68 238.75\n",
      "69 242.33333333333334\n",
      "70 252.5\n",
      "71 238.66666666666666\n",
      "74 269.0\n",
      "76 197.0\n",
      "77 304.0\n"
     ]
    }
   ],
   "source": [
    "# Loop through the rows of the dataframe and print out only age and total_people\n",
    "for row in dfMerge.itertuples():\n",
    "    print(row.age, row.Mean_Cholesterol_Level)"
   ]
  }
 ],
 "metadata": {
  "kernelspec": {
   "display_name": "base",
   "language": "python",
   "name": "python3"
  },
  "language_info": {
   "codemirror_mode": {
    "name": "ipython",
    "version": 3
   },
   "file_extension": ".py",
   "mimetype": "text/x-python",
   "name": "python",
   "nbconvert_exporter": "python",
   "pygments_lexer": "ipython3",
   "version": "3.10.11"
  },
  "orig_nbformat": 4
 },
 "nbformat": 4,
 "nbformat_minor": 2
}
