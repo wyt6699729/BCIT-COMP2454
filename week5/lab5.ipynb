{
 "cells": [
  {
   "attachments": {},
   "cell_type": "markdown",
   "metadata": {},
   "source": [
    "Example 1"
   ]
  },
  {
   "cell_type": "code",
   "execution_count": 2,
   "metadata": {},
   "outputs": [
    {
     "data": {
      "text/html": [
       "<div>\n",
       "<style scoped>\n",
       "    .dataframe tbody tr th:only-of-type {\n",
       "        vertical-align: middle;\n",
       "    }\n",
       "\n",
       "    .dataframe tbody tr th {\n",
       "        vertical-align: top;\n",
       "    }\n",
       "\n",
       "    .dataframe thead th {\n",
       "        text-align: right;\n",
       "    }\n",
       "</style>\n",
       "<table border=\"1\" class=\"dataframe\">\n",
       "  <thead>\n",
       "    <tr style=\"text-align: right;\">\n",
       "      <th></th>\n",
       "      <th>productID</th>\n",
       "      <th>productName</th>\n",
       "      <th>vendor</th>\n",
       "      <th>quantity</th>\n",
       "      <th>price</th>\n",
       "      <th>stockDate</th>\n",
       "    </tr>\n",
       "  </thead>\n",
       "  <tbody>\n",
       "    <tr>\n",
       "      <th>0</th>\n",
       "      <td>1</td>\n",
       "      <td>Wonder Bar</td>\n",
       "      <td>Cadbury</td>\n",
       "      <td>11.0</td>\n",
       "      <td>1.11</td>\n",
       "      <td>2020-10-01</td>\n",
       "    </tr>\n",
       "    <tr>\n",
       "      <th>1</th>\n",
       "      <td>2</td>\n",
       "      <td>Too too</td>\n",
       "      <td>Toucan Inc.</td>\n",
       "      <td>22.0</td>\n",
       "      <td>2.22</td>\n",
       "      <td>2020-10-02</td>\n",
       "    </tr>\n",
       "    <tr>\n",
       "      <th>2</th>\n",
       "      <td>3</td>\n",
       "      <td>Fork</td>\n",
       "      <td>Silverware Inc.</td>\n",
       "      <td>44.0</td>\n",
       "      <td>4.44</td>\n",
       "      <td>2020-10-04</td>\n",
       "    </tr>\n",
       "    <tr>\n",
       "      <th>3</th>\n",
       "      <td>4</td>\n",
       "      <td>Fork</td>\n",
       "      <td>Waterford Corp.</td>\n",
       "      <td>34.0</td>\n",
       "      <td>5.31</td>\n",
       "      <td>2020-10-04</td>\n",
       "    </tr>\n",
       "    <tr>\n",
       "      <th>4</th>\n",
       "      <td>5</td>\n",
       "      <td>Futon</td>\n",
       "      <td>Sleep Country</td>\n",
       "      <td>NaN</td>\n",
       "      <td>4.32</td>\n",
       "      <td>2020-10-05</td>\n",
       "    </tr>\n",
       "  </tbody>\n",
       "</table>\n",
       "</div>"
      ],
      "text/plain": [
       "   productID productName           vendor  quantity  price   stockDate\n",
       "0          1  Wonder Bar          Cadbury      11.0   1.11  2020-10-01\n",
       "1          2     Too too      Toucan Inc.      22.0   2.22  2020-10-02\n",
       "2          3        Fork  Silverware Inc.      44.0   4.44  2020-10-04\n",
       "3          4        Fork  Waterford Corp.      34.0   5.31  2020-10-04\n",
       "4          5       Futon    Sleep Country       NaN   4.32  2020-10-05"
      ]
     },
     "execution_count": 2,
     "metadata": {},
     "output_type": "execute_result"
    }
   ],
   "source": [
    "import pandas as pd\n",
    "from sqlalchemy import create_engine\n",
    "\n",
    "# The data with file path name need to be configured.\n",
    "path = '/Users/yitian/Documents/local-repo/BCIT/BCIT-COMP2454/datasets/retailerDB.csv'\n",
    "\n",
    "df = pd.read_csv(path)\n",
    "df.head()"
   ]
  },
  {
   "cell_type": "code",
   "execution_count": 3,
   "metadata": {},
   "outputs": [
    {
     "name": "stdout",
     "output_type": "stream",
     "text": [
      "   productID   productName           vendor  quantity  price   stockDate\n",
      "0          1    Wonder Bar          Cadbury      11.0   1.11  2020-10-01\n",
      "1          2       Too too      Toucan Inc.      22.0   2.22  2020-10-02\n",
      "2          3          Fork  Silverware Inc.      44.0   4.44  2020-10-04\n",
      "3          4          Fork  Waterford Corp.      34.0   5.31  2020-10-04\n",
      "4          5         Futon    Sleep Country       NaN   4.32  2020-10-05\n",
      "5          6  Coffee Crisp          Cadbury       9.0   1.32  2020-10-06\n"
     ]
    },
    {
     "name": "stderr",
     "output_type": "stream",
     "text": [
      "/var/folders/2t/kcm1sgh930nd2bq8t_2lfh1c0000gn/T/ipykernel_87561/3360558558.py:6: UserWarning: pandas only supports SQLAlchemy connectable (engine/connection) or database string URI or sqlite3 DBAPI2 connection. Other DBAPI2 objects are not tested. Please consider using SQLAlchemy.\n",
      "  df.to_sql(name='Inventory', con=connection, if_exists='replace', index=False)\n",
      "/var/folders/2t/kcm1sgh930nd2bq8t_2lfh1c0000gn/T/ipykernel_87561/3360558558.py:9: UserWarning: pandas only supports SQLAlchemy connectable (engine/connection) or database string URI or sqlite3 DBAPI2 connection. Other DBAPI2 objects are not tested. Please consider using SQLAlchemy.\n",
      "  queryResult = pd.read_sql(sql, connection)\n"
     ]
    }
   ],
   "source": [
    "# Placed query in this function to enable code re-usability\n",
    "def showQueryResult(sql):\n",
    "    # This code creates an in-memory table called 'Inventory'\n",
    "    engine = create_engine('sqlite://', echo=False)\n",
    "    connection = engine.raw_connection()\n",
    "    df.to_sql(name='Inventory', con=connection, if_exists='replace', index=False)\n",
    "\n",
    "    # This code performs the query\n",
    "    queryResult = pd.read_sql(sql, connection)\n",
    "    return queryResult\n",
    "\n",
    "# Read all rows from the table\n",
    "SQL = \"SELECT * FROM Inventory\"\n",
    "result = showQueryResult(SQL)\n",
    "print(result)"
   ]
  },
  {
   "attachments": {},
   "cell_type": "markdown",
   "metadata": {},
   "source": [
    "Exercise 1"
   ]
  },
  {
   "cell_type": "code",
   "execution_count": 6,
   "metadata": {},
   "outputs": [
    {
     "name": "stdout",
     "output_type": "stream",
     "text": [
      "   productID   productName           vendor  quantity  price   stockDate\n",
      "0          1    Wonder Bar          Cadbury      11.0   1.11  2020-10-01\n",
      "1          2       Too too      Toucan Inc.      22.0   2.22  2020-10-02\n",
      "2          3          Fork  Silverware Inc.      44.0   4.44  2020-10-04\n",
      "3          4          Fork  Waterford Corp.      34.0   5.31  2020-10-04\n",
      "4          5         Futon    Sleep Country       NaN   4.32  2020-10-05\n",
      "5          6  Coffee Crisp          Cadbury       9.0   1.32  2020-10-06\n"
     ]
    },
    {
     "name": "stderr",
     "output_type": "stream",
     "text": [
      "/var/folders/2t/kcm1sgh930nd2bq8t_2lfh1c0000gn/T/ipykernel_87561/1829924028.py:13: UserWarning: pandas only supports SQLAlchemy connectable (engine/connection) or database string URI or sqlite3 DBAPI2 connection. Other DBAPI2 objects are not tested. Please consider using SQLAlchemy.\n",
      "  df.to_sql(name='RetailInventory', con=connection, if_exists='replace', index=False)\n",
      "/var/folders/2t/kcm1sgh930nd2bq8t_2lfh1c0000gn/T/ipykernel_87561/1829924028.py:16: UserWarning: pandas only supports SQLAlchemy connectable (engine/connection) or database string URI or sqlite3 DBAPI2 connection. Other DBAPI2 objects are not tested. Please consider using SQLAlchemy.\n",
      "  queryResult = pd.read_sql(sql, connection)\n"
     ]
    }
   ],
   "source": [
    "import pandas as pd\n",
    "from sqlalchemy import create_engine\n",
    "\n",
    "# The data file path and file name need to be configured.\n",
    "filePath = '../datasets/retailerDB.csv'\n",
    "\n",
    "df = pd.read_csv(filePath)\n",
    "\n",
    "# Placed query in this function to enable code re-usability.\n",
    "def showQueryResult(sql):\n",
    "    engine = create_engine('sqlite://', echo=False)\n",
    "    connection = engine.raw_connection()\n",
    "    df.to_sql(name='RetailInventory', con=connection, if_exists='replace', index=False)\n",
    "\n",
    "    # This code performs the query\n",
    "    queryResult = pd.read_sql(sql, connection)\n",
    "    return queryResult\n",
    "\n",
    "# Read all rows from the table\n",
    "SQL = \"SELECT * FROM RetailInventory\"\n",
    "result = showQueryResult(SQL)\n",
    "print(result)\n",
    "\n"
   ]
  },
  {
   "attachments": {},
   "cell_type": "markdown",
   "metadata": {},
   "source": [
    "Exercise 5"
   ]
  },
  {
   "cell_type": "code",
   "execution_count": 7,
   "metadata": {},
   "outputs": [
    {
     "name": "stdout",
     "output_type": "stream",
     "text": [
      "   productID   productName           vendor  quantity  price   stockDate\n",
      "0          6  Coffee Crisp          Cadbury       9.0   1.32  2020-10-06\n",
      "1          4          Fork  Waterford Corp.      34.0   5.31  2020-10-04\n",
      "2          3          Fork  Silverware Inc.      44.0   4.44  2020-10-04\n",
      "3          5         Futon    Sleep Country       NaN   4.32  2020-10-05\n",
      "4          2       Too too      Toucan Inc.      22.0   2.22  2020-10-02\n",
      "5          1    Wonder Bar          Cadbury      11.0   1.11  2020-10-01\n"
     ]
    },
    {
     "name": "stderr",
     "output_type": "stream",
     "text": [
      "/var/folders/2t/kcm1sgh930nd2bq8t_2lfh1c0000gn/T/ipykernel_87561/1829924028.py:13: UserWarning: pandas only supports SQLAlchemy connectable (engine/connection) or database string URI or sqlite3 DBAPI2 connection. Other DBAPI2 objects are not tested. Please consider using SQLAlchemy.\n",
      "  df.to_sql(name='RetailInventory', con=connection, if_exists='replace', index=False)\n",
      "/var/folders/2t/kcm1sgh930nd2bq8t_2lfh1c0000gn/T/ipykernel_87561/1829924028.py:16: UserWarning: pandas only supports SQLAlchemy connectable (engine/connection) or database string URI or sqlite3 DBAPI2 connection. Other DBAPI2 objects are not tested. Please consider using SQLAlchemy.\n",
      "  queryResult = pd.read_sql(sql, connection)\n"
     ]
    }
   ],
   "source": [
    "SQL = \"SELECT * FROM RetailInventory ORDER BY productName, quantity\"\n",
    "result = showQueryResult(SQL)\n",
    "print(result)"
   ]
  },
  {
   "attachments": {},
   "cell_type": "markdown",
   "metadata": {},
   "source": [
    "E6"
   ]
  },
  {
   "cell_type": "code",
   "execution_count": 10,
   "metadata": {},
   "outputs": [
    {
     "name": "stdout",
     "output_type": "stream",
     "text": [
      "   productID   productName   vendor  quantity  price   stockDate\n",
      "0          1    Wonder Bar  Cadbury      11.0   1.11  2020-10-01\n",
      "1          6  Coffee Crisp  Cadbury       9.0   1.32  2020-10-06\n"
     ]
    },
    {
     "name": "stderr",
     "output_type": "stream",
     "text": [
      "/var/folders/2t/kcm1sgh930nd2bq8t_2lfh1c0000gn/T/ipykernel_87561/1829924028.py:13: UserWarning: pandas only supports SQLAlchemy connectable (engine/connection) or database string URI or sqlite3 DBAPI2 connection. Other DBAPI2 objects are not tested. Please consider using SQLAlchemy.\n",
      "  df.to_sql(name='RetailInventory', con=connection, if_exists='replace', index=False)\n",
      "/var/folders/2t/kcm1sgh930nd2bq8t_2lfh1c0000gn/T/ipykernel_87561/1829924028.py:16: UserWarning: pandas only supports SQLAlchemy connectable (engine/connection) or database string URI or sqlite3 DBAPI2 connection. Other DBAPI2 objects are not tested. Please consider using SQLAlchemy.\n",
      "  queryResult = pd.read_sql(sql, connection)\n"
     ]
    }
   ],
   "source": [
    "SQL = \"SELECT * FROM RetailInventory WHERE vendor IN ('Cadbury', 'Nestle')\"\n",
    "result = showQueryResult(SQL)\n",
    "print(result)"
   ]
  },
  {
   "attachments": {},
   "cell_type": "markdown",
   "metadata": {},
   "source": [
    "E7"
   ]
  },
  {
   "cell_type": "code",
   "execution_count": 11,
   "metadata": {},
   "outputs": [
    {
     "name": "stdout",
     "output_type": "stream",
     "text": [
      "    productName  price  afterTaxPrice\n",
      "0    Wonder Bar   1.11         1.1877\n",
      "1       Too too   2.22         2.3754\n",
      "2          Fork   4.44         4.7508\n",
      "3          Fork   5.31         5.6817\n",
      "4         Futon   4.32         4.6224\n",
      "5  Coffee Crisp   1.32         1.4124\n"
     ]
    },
    {
     "name": "stderr",
     "output_type": "stream",
     "text": [
      "/var/folders/2t/kcm1sgh930nd2bq8t_2lfh1c0000gn/T/ipykernel_87561/1829924028.py:13: UserWarning: pandas only supports SQLAlchemy connectable (engine/connection) or database string URI or sqlite3 DBAPI2 connection. Other DBAPI2 objects are not tested. Please consider using SQLAlchemy.\n",
      "  df.to_sql(name='RetailInventory', con=connection, if_exists='replace', index=False)\n",
      "/var/folders/2t/kcm1sgh930nd2bq8t_2lfh1c0000gn/T/ipykernel_87561/1829924028.py:16: UserWarning: pandas only supports SQLAlchemy connectable (engine/connection) or database string URI or sqlite3 DBAPI2 connection. Other DBAPI2 objects are not tested. Please consider using SQLAlchemy.\n",
      "  queryResult = pd.read_sql(sql, connection)\n"
     ]
    }
   ],
   "source": [
    "SQL = \"SELECT productName, price, price*1.07 AS afterTaxPrice FROM RetailInventory\"\n",
    "result = showQueryResult(SQL)\n",
    "print(result)"
   ]
  },
  {
   "attachments": {},
   "cell_type": "markdown",
   "metadata": {},
   "source": [
    "E8"
   ]
  },
  {
   "cell_type": "code",
   "execution_count": 17,
   "metadata": {},
   "outputs": [
    {
     "name": "stdout",
     "output_type": "stream",
     "text": [
      "          vendor   productName\n",
      "0        Cadbury    Wonder Bar\n",
      "1  Sleep Country         Futon\n",
      "2        Cadbury  Coffee Crisp\n"
     ]
    },
    {
     "name": "stderr",
     "output_type": "stream",
     "text": [
      "/var/folders/2t/kcm1sgh930nd2bq8t_2lfh1c0000gn/T/ipykernel_87561/1829924028.py:13: UserWarning: pandas only supports SQLAlchemy connectable (engine/connection) or database string URI or sqlite3 DBAPI2 connection. Other DBAPI2 objects are not tested. Please consider using SQLAlchemy.\n",
      "  df.to_sql(name='RetailInventory', con=connection, if_exists='replace', index=False)\n",
      "/var/folders/2t/kcm1sgh930nd2bq8t_2lfh1c0000gn/T/ipykernel_87561/1829924028.py:16: UserWarning: pandas only supports SQLAlchemy connectable (engine/connection) or database string URI or sqlite3 DBAPI2 connection. Other DBAPI2 objects are not tested. Please consider using SQLAlchemy.\n",
      "  queryResult = pd.read_sql(sql, connection)\n"
     ]
    }
   ],
   "source": [
    "SQL = \"SELECT vendor, productName FROM RetailInventory WHERE vendor LIKE '%ry'\"\n",
    "result = showQueryResult(SQL)\n",
    "print(result)"
   ]
  },
  {
   "cell_type": "code",
   "execution_count": 18,
   "metadata": {},
   "outputs": [
    {
     "name": "stdout",
     "output_type": "stream",
     "text": [
      "  productName\n",
      "0        Fork\n",
      "1        Fork\n",
      "2       Futon\n"
     ]
    },
    {
     "name": "stderr",
     "output_type": "stream",
     "text": [
      "/var/folders/2t/kcm1sgh930nd2bq8t_2lfh1c0000gn/T/ipykernel_87561/1829924028.py:13: UserWarning: pandas only supports SQLAlchemy connectable (engine/connection) or database string URI or sqlite3 DBAPI2 connection. Other DBAPI2 objects are not tested. Please consider using SQLAlchemy.\n",
      "  df.to_sql(name='RetailInventory', con=connection, if_exists='replace', index=False)\n",
      "/var/folders/2t/kcm1sgh930nd2bq8t_2lfh1c0000gn/T/ipykernel_87561/1829924028.py:16: UserWarning: pandas only supports SQLAlchemy connectable (engine/connection) or database string URI or sqlite3 DBAPI2 connection. Other DBAPI2 objects are not tested. Please consider using SQLAlchemy.\n",
      "  queryResult = pd.read_sql(sql, connection)\n"
     ]
    }
   ],
   "source": [
    "SQL = \"SELECT productName FROM RetailInventory WHERE productName LIKE 'F%'\"\n",
    "result = showQueryResult(SQL)\n",
    "print(result)"
   ]
  },
  {
   "attachments": {},
   "cell_type": "markdown",
   "metadata": {},
   "source": [
    "E10"
   ]
  },
  {
   "cell_type": "code",
   "execution_count": 19,
   "metadata": {},
   "outputs": [
    {
     "name": "stdout",
     "output_type": "stream",
     "text": [
      "    productName  minPrice\n",
      "0  Coffee Crisp      1.32\n",
      "1          Fork      4.44\n",
      "2         Futon      4.32\n",
      "3       Too too      2.22\n",
      "4    Wonder Bar      1.11\n"
     ]
    },
    {
     "name": "stderr",
     "output_type": "stream",
     "text": [
      "/var/folders/2t/kcm1sgh930nd2bq8t_2lfh1c0000gn/T/ipykernel_87561/1829924028.py:13: UserWarning: pandas only supports SQLAlchemy connectable (engine/connection) or database string URI or sqlite3 DBAPI2 connection. Other DBAPI2 objects are not tested. Please consider using SQLAlchemy.\n",
      "  df.to_sql(name='RetailInventory', con=connection, if_exists='replace', index=False)\n",
      "/var/folders/2t/kcm1sgh930nd2bq8t_2lfh1c0000gn/T/ipykernel_87561/1829924028.py:16: UserWarning: pandas only supports SQLAlchemy connectable (engine/connection) or database string URI or sqlite3 DBAPI2 connection. Other DBAPI2 objects are not tested. Please consider using SQLAlchemy.\n",
      "  queryResult = pd.read_sql(sql, connection)\n"
     ]
    }
   ],
   "source": [
    "SQL = \"SELECT productName, MIN(price) AS minPrice FROM RetailInventory GROUP BY productName\"\n",
    "result = showQueryResult(SQL)\n",
    "print(result)"
   ]
  },
  {
   "cell_type": "code",
   "execution_count": 20,
   "metadata": {},
   "outputs": [
    {
     "name": "stdout",
     "output_type": "stream",
     "text": [
      "            vendor  totalQuantity\n",
      "0          Cadbury           20.0\n",
      "1  Silverware Inc.           44.0\n",
      "2    Sleep Country            NaN\n",
      "3      Toucan Inc.           22.0\n",
      "4  Waterford Corp.           34.0\n"
     ]
    },
    {
     "name": "stderr",
     "output_type": "stream",
     "text": [
      "/var/folders/2t/kcm1sgh930nd2bq8t_2lfh1c0000gn/T/ipykernel_87561/1829924028.py:13: UserWarning: pandas only supports SQLAlchemy connectable (engine/connection) or database string URI or sqlite3 DBAPI2 connection. Other DBAPI2 objects are not tested. Please consider using SQLAlchemy.\n",
      "  df.to_sql(name='RetailInventory', con=connection, if_exists='replace', index=False)\n",
      "/var/folders/2t/kcm1sgh930nd2bq8t_2lfh1c0000gn/T/ipykernel_87561/1829924028.py:16: UserWarning: pandas only supports SQLAlchemy connectable (engine/connection) or database string URI or sqlite3 DBAPI2 connection. Other DBAPI2 objects are not tested. Please consider using SQLAlchemy.\n",
      "  queryResult = pd.read_sql(sql, connection)\n"
     ]
    }
   ],
   "source": [
    "SQL = \"SELECT vendor, SUM(quantity) AS totalQuantity FROM RetailInventory GROUP BY vendor\"\n",
    "result = showQueryResult(SQL)\n",
    "print(result)"
   ]
  },
  {
   "cell_type": "code",
   "execution_count": 26,
   "metadata": {},
   "outputs": [
    {
     "name": "stdout",
     "output_type": "stream",
     "text": [
      "            vendor  revenueValue\n",
      "0  Silverware Inc.        195.36\n",
      "1  Waterford Corp.        180.54\n"
     ]
    },
    {
     "name": "stderr",
     "output_type": "stream",
     "text": [
      "/var/folders/2t/kcm1sgh930nd2bq8t_2lfh1c0000gn/T/ipykernel_87561/1829924028.py:13: UserWarning: pandas only supports SQLAlchemy connectable (engine/connection) or database string URI or sqlite3 DBAPI2 connection. Other DBAPI2 objects are not tested. Please consider using SQLAlchemy.\n",
      "  df.to_sql(name='RetailInventory', con=connection, if_exists='replace', index=False)\n",
      "/var/folders/2t/kcm1sgh930nd2bq8t_2lfh1c0000gn/T/ipykernel_87561/1829924028.py:16: UserWarning: pandas only supports SQLAlchemy connectable (engine/connection) or database string URI or sqlite3 DBAPI2 connection. Other DBAPI2 objects are not tested. Please consider using SQLAlchemy.\n",
      "  queryResult = pd.read_sql(sql, connection)\n"
     ]
    }
   ],
   "source": [
    "SQL = \"SELECT vendor, SUM(price*quantity) revenueValue FROM RetailInventory WHERE vendor IN ('Silverware Inc.', 'Waterford Corp.') GROUP BY vendor\"\n",
    "result = showQueryResult(SQL)\n",
    "print(result)"
   ]
  },
  {
   "cell_type": "code",
   "execution_count": 31,
   "metadata": {},
   "outputs": [
    {
     "name": "stderr",
     "output_type": "stream",
     "text": [
      "The version of chrome cannot be detected. Trying with latest driver version\n"
     ]
    },
    {
     "name": "stdout",
     "output_type": "stream",
     "text": [
      "webdriver not found. Update 'DRIVER_PATH' with file path in the download.\n"
     ]
    },
    {
     "ename": "NoSuchDriverException",
     "evalue": "Message: Unable to obtain chromedriver using Selenium Manager; 'str' object has no attribute 'capabilities'; For documentation on this error, please visit: https://www.selenium.dev/documentation/webdriver/troubleshooting/errors/driver_location\n",
     "output_type": "error",
     "traceback": [
      "\u001b[0;31m---------------------------------------------------------------------------\u001b[0m",
      "\u001b[0;31mWebDriverException\u001b[0m                        Traceback (most recent call last)",
      "Cell \u001b[0;32mIn[31], line 8\u001b[0m\n\u001b[1;32m      7\u001b[0m \u001b[39mtry\u001b[39;00m:\n\u001b[0;32m----> 8\u001b[0m     browser \u001b[39m=\u001b[39m webdriver\u001b[39m.\u001b[39;49mChrome(service\u001b[39m=\u001b[39;49mService(DRIVER_PATH))\n\u001b[1;32m      9\u001b[0m     \u001b[39mprint\u001b[39m(\u001b[39m\"\u001b[39m\u001b[39mThe path to webdriver_manager was found.\u001b[39m\u001b[39m\"\u001b[39m)\n",
      "File \u001b[0;32m~/anaconda3/lib/python3.10/site-packages/selenium/webdriver/chrome/webdriver.py:49\u001b[0m, in \u001b[0;36mWebDriver.__init__\u001b[0;34m(self, options, service, keep_alive)\u001b[0m\n\u001b[1;32m     47\u001b[0m \u001b[39mself\u001b[39m\u001b[39m.\u001b[39mservice\u001b[39m.\u001b[39mpath \u001b[39m=\u001b[39m DriverFinder\u001b[39m.\u001b[39mget_path(\u001b[39mself\u001b[39m\u001b[39m.\u001b[39mservice, \u001b[39mself\u001b[39m\u001b[39m.\u001b[39moptions)\n\u001b[0;32m---> 49\u001b[0m \u001b[39msuper\u001b[39;49m()\u001b[39m.\u001b[39;49m\u001b[39m__init__\u001b[39;49m(\n\u001b[1;32m     50\u001b[0m     DesiredCapabilities\u001b[39m.\u001b[39;49mCHROME[\u001b[39m\"\u001b[39;49m\u001b[39mbrowserName\u001b[39;49m\u001b[39m\"\u001b[39;49m],\n\u001b[1;32m     51\u001b[0m     \u001b[39m\"\u001b[39;49m\u001b[39mgoog\u001b[39;49m\u001b[39m\"\u001b[39;49m,\n\u001b[1;32m     52\u001b[0m     \u001b[39mself\u001b[39;49m\u001b[39m.\u001b[39;49moptions,\n\u001b[1;32m     53\u001b[0m     \u001b[39mself\u001b[39;49m\u001b[39m.\u001b[39;49mservice,\n\u001b[1;32m     54\u001b[0m     \u001b[39mself\u001b[39;49m\u001b[39m.\u001b[39;49mkeep_alive,\n\u001b[1;32m     55\u001b[0m )\n",
      "File \u001b[0;32m~/anaconda3/lib/python3.10/site-packages/selenium/webdriver/chromium/webdriver.py:54\u001b[0m, in \u001b[0;36mChromiumDriver.__init__\u001b[0;34m(self, browser_name, vendor_prefix, options, service, keep_alive)\u001b[0m\n\u001b[1;32m     53\u001b[0m \u001b[39mtry\u001b[39;00m:\n\u001b[0;32m---> 54\u001b[0m     \u001b[39msuper\u001b[39;49m()\u001b[39m.\u001b[39;49m\u001b[39m__init__\u001b[39;49m(\n\u001b[1;32m     55\u001b[0m         command_executor\u001b[39m=\u001b[39;49mChromiumRemoteConnection(\n\u001b[1;32m     56\u001b[0m             remote_server_addr\u001b[39m=\u001b[39;49m\u001b[39mself\u001b[39;49m\u001b[39m.\u001b[39;49mservice\u001b[39m.\u001b[39;49mservice_url,\n\u001b[1;32m     57\u001b[0m             browser_name\u001b[39m=\u001b[39;49mbrowser_name,\n\u001b[1;32m     58\u001b[0m             vendor_prefix\u001b[39m=\u001b[39;49mvendor_prefix,\n\u001b[1;32m     59\u001b[0m             keep_alive\u001b[39m=\u001b[39;49mkeep_alive,\n\u001b[1;32m     60\u001b[0m             ignore_proxy\u001b[39m=\u001b[39;49m\u001b[39mself\u001b[39;49m\u001b[39m.\u001b[39;49moptions\u001b[39m.\u001b[39;49m_ignore_local_proxy,\n\u001b[1;32m     61\u001b[0m         ),\n\u001b[1;32m     62\u001b[0m         options\u001b[39m=\u001b[39;49m\u001b[39mself\u001b[39;49m\u001b[39m.\u001b[39;49moptions,\n\u001b[1;32m     63\u001b[0m     )\n\u001b[1;32m     64\u001b[0m \u001b[39mexcept\u001b[39;00m \u001b[39mException\u001b[39;00m:\n",
      "File \u001b[0;32m~/anaconda3/lib/python3.10/site-packages/selenium/webdriver/remote/webdriver.py:206\u001b[0m, in \u001b[0;36mWebDriver.__init__\u001b[0;34m(self, command_executor, keep_alive, file_detector, options)\u001b[0m\n\u001b[1;32m    205\u001b[0m \u001b[39mself\u001b[39m\u001b[39m.\u001b[39mstart_client()\n\u001b[0;32m--> 206\u001b[0m \u001b[39mself\u001b[39;49m\u001b[39m.\u001b[39;49mstart_session(capabilities)\n",
      "File \u001b[0;32m~/anaconda3/lib/python3.10/site-packages/selenium/webdriver/remote/webdriver.py:291\u001b[0m, in \u001b[0;36mWebDriver.start_session\u001b[0;34m(self, capabilities)\u001b[0m\n\u001b[1;32m    290\u001b[0m caps \u001b[39m=\u001b[39m _create_caps(capabilities)\n\u001b[0;32m--> 291\u001b[0m response \u001b[39m=\u001b[39m \u001b[39mself\u001b[39;49m\u001b[39m.\u001b[39;49mexecute(Command\u001b[39m.\u001b[39;49mNEW_SESSION, caps)[\u001b[39m\"\u001b[39m\u001b[39mvalue\u001b[39m\u001b[39m\"\u001b[39m]\n\u001b[1;32m    292\u001b[0m \u001b[39mself\u001b[39m\u001b[39m.\u001b[39msession_id \u001b[39m=\u001b[39m response\u001b[39m.\u001b[39mget(\u001b[39m\"\u001b[39m\u001b[39msessionId\u001b[39m\u001b[39m\"\u001b[39m)\n",
      "File \u001b[0;32m~/anaconda3/lib/python3.10/site-packages/selenium/webdriver/remote/webdriver.py:346\u001b[0m, in \u001b[0;36mWebDriver.execute\u001b[0;34m(self, driver_command, params)\u001b[0m\n\u001b[1;32m    345\u001b[0m \u001b[39mif\u001b[39;00m response:\n\u001b[0;32m--> 346\u001b[0m     \u001b[39mself\u001b[39;49m\u001b[39m.\u001b[39;49merror_handler\u001b[39m.\u001b[39;49mcheck_response(response)\n\u001b[1;32m    347\u001b[0m     response[\u001b[39m\"\u001b[39m\u001b[39mvalue\u001b[39m\u001b[39m\"\u001b[39m] \u001b[39m=\u001b[39m \u001b[39mself\u001b[39m\u001b[39m.\u001b[39m_unwrap_value(response\u001b[39m.\u001b[39mget(\u001b[39m\"\u001b[39m\u001b[39mvalue\u001b[39m\u001b[39m\"\u001b[39m, \u001b[39mNone\u001b[39;00m))\n",
      "File \u001b[0;32m~/anaconda3/lib/python3.10/site-packages/selenium/webdriver/remote/errorhandler.py:245\u001b[0m, in \u001b[0;36mErrorHandler.check_response\u001b[0;34m(self, response)\u001b[0m\n\u001b[1;32m    244\u001b[0m     \u001b[39mraise\u001b[39;00m exception_class(message, screen, stacktrace, alert_text)  \u001b[39m# type: ignore[call-arg]  # mypy is not smart enough here\u001b[39;00m\n\u001b[0;32m--> 245\u001b[0m \u001b[39mraise\u001b[39;00m exception_class(message, screen, stacktrace)\n",
      "\u001b[0;31mWebDriverException\u001b[0m: Message: unknown error: cannot find Chrome binary\nStacktrace:\n0   chromedriver                        0x0000000100d1bf48 chromedriver + 4226888\n1   chromedriver                        0x0000000100d144f4 chromedriver + 4195572\n2   chromedriver                        0x0000000100958d68 chromedriver + 281960\n3   chromedriver                        0x000000010097fc24 chromedriver + 441380\n4   chromedriver                        0x000000010097e150 chromedriver + 434512\n5   chromedriver                        0x00000001009bb93c chromedriver + 686396\n6   chromedriver                        0x00000001009bb164 chromedriver + 684388\n7   chromedriver                        0x0000000100987f1c chromedriver + 474908\n8   chromedriver                        0x0000000100988ef4 chromedriver + 478964\n9   chromedriver                        0x0000000100cdd59c chromedriver + 3970460\n10  chromedriver                        0x0000000100ce16f0 chromedriver + 3987184\n11  chromedriver                        0x0000000100ce75b4 chromedriver + 4011444\n12  chromedriver                        0x0000000100ce22fc chromedriver + 3990268\n13  chromedriver                        0x0000000100cba1c0 chromedriver + 3826112\n14  chromedriver                        0x0000000100cfe088 chromedriver + 4104328\n15  chromedriver                        0x0000000100cfe1e0 chromedriver + 4104672\n16  chromedriver                        0x0000000100d0df28 chromedriver + 4169512\n17  libsystem_pthread.dylib             0x00000001a569426c _pthread_start + 148\n18  libsystem_pthread.dylib             0x00000001a568f08c thread_start + 8\n",
      "\nDuring handling of the above exception, another exception occurred:\n",
      "\u001b[0;31mAttributeError\u001b[0m                            Traceback (most recent call last)",
      "File \u001b[0;32m~/anaconda3/lib/python3.10/site-packages/selenium/webdriver/common/driver_finder.py:42\u001b[0m, in \u001b[0;36mDriverFinder.get_path\u001b[0;34m(service, options)\u001b[0m\n\u001b[1;32m     41\u001b[0m \u001b[39mtry\u001b[39;00m:\n\u001b[0;32m---> 42\u001b[0m     path \u001b[39m=\u001b[39m SeleniumManager()\u001b[39m.\u001b[39;49mdriver_location(options) \u001b[39mif\u001b[39;00m path \u001b[39mis\u001b[39;00m \u001b[39mNone\u001b[39;00m \u001b[39melse\u001b[39;00m path\n\u001b[1;32m     43\u001b[0m \u001b[39mexcept\u001b[39;00m \u001b[39mException\u001b[39;00m \u001b[39mas\u001b[39;00m err:\n",
      "File \u001b[0;32m~/anaconda3/lib/python3.10/site-packages/selenium/webdriver/common/selenium_manager.py:74\u001b[0m, in \u001b[0;36mSeleniumManager.driver_location\u001b[0;34m(self, options)\u001b[0m\n\u001b[1;32m     72\u001b[0m logger\u001b[39m.\u001b[39mdebug(\u001b[39m\"\u001b[39m\u001b[39mApplicable driver not found; attempting to install with Selenium Manager (Beta)\u001b[39m\u001b[39m\"\u001b[39m)\n\u001b[0;32m---> 74\u001b[0m browser \u001b[39m=\u001b[39m options\u001b[39m.\u001b[39;49mcapabilities[\u001b[39m\"\u001b[39m\u001b[39mbrowserName\u001b[39m\u001b[39m\"\u001b[39m]\n\u001b[1;32m     76\u001b[0m args \u001b[39m=\u001b[39m [\u001b[39mstr\u001b[39m(\u001b[39mself\u001b[39m\u001b[39m.\u001b[39mget_binary()), \u001b[39m\"\u001b[39m\u001b[39m--browser\u001b[39m\u001b[39m\"\u001b[39m, browser, \u001b[39m\"\u001b[39m\u001b[39m--output\u001b[39m\u001b[39m\"\u001b[39m, \u001b[39m\"\u001b[39m\u001b[39mjson\u001b[39m\u001b[39m\"\u001b[39m]\n",
      "\u001b[0;31mAttributeError\u001b[0m: 'str' object has no attribute 'capabilities'",
      "\nDuring handling of the above exception, another exception occurred:\n",
      "\u001b[0;31mNoSuchDriverException\u001b[0m                     Traceback (most recent call last)",
      "Cell \u001b[0;32mIn[31], line 13\u001b[0m\n\u001b[1;32m     11\u001b[0m \u001b[39mexcept\u001b[39;00m:\n\u001b[1;32m     12\u001b[0m     \u001b[39mprint\u001b[39m(\u001b[39m\"\u001b[39m\u001b[39mwebdriver not found. Update \u001b[39m\u001b[39m'\u001b[39m\u001b[39mDRIVER_PATH\u001b[39m\u001b[39m'\u001b[39m\u001b[39m with file path in the download.\u001b[39m\u001b[39m\"\u001b[39m)\n\u001b[0;32m---> 13\u001b[0m     browser \u001b[39m=\u001b[39m webdriver\u001b[39m.\u001b[39;49mChrome(ChromeDriverManager()\u001b[39m.\u001b[39;49minstall())\n",
      "File \u001b[0;32m~/anaconda3/lib/python3.10/site-packages/selenium/webdriver/chrome/webdriver.py:47\u001b[0m, in \u001b[0;36mWebDriver.__init__\u001b[0;34m(self, options, service, keep_alive)\u001b[0m\n\u001b[1;32m     44\u001b[0m \u001b[39mself\u001b[39m\u001b[39m.\u001b[39moptions \u001b[39m=\u001b[39m options \u001b[39mif\u001b[39;00m options \u001b[39melse\u001b[39;00m Options()\n\u001b[1;32m     45\u001b[0m \u001b[39mself\u001b[39m\u001b[39m.\u001b[39mkeep_alive \u001b[39m=\u001b[39m keep_alive\n\u001b[0;32m---> 47\u001b[0m \u001b[39mself\u001b[39m\u001b[39m.\u001b[39mservice\u001b[39m.\u001b[39mpath \u001b[39m=\u001b[39m DriverFinder\u001b[39m.\u001b[39;49mget_path(\u001b[39mself\u001b[39;49m\u001b[39m.\u001b[39;49mservice, \u001b[39mself\u001b[39;49m\u001b[39m.\u001b[39;49moptions)\n\u001b[1;32m     49\u001b[0m \u001b[39msuper\u001b[39m()\u001b[39m.\u001b[39m\u001b[39m__init__\u001b[39m(\n\u001b[1;32m     50\u001b[0m     DesiredCapabilities\u001b[39m.\u001b[39mCHROME[\u001b[39m\"\u001b[39m\u001b[39mbrowserName\u001b[39m\u001b[39m\"\u001b[39m],\n\u001b[1;32m     51\u001b[0m     \u001b[39m\"\u001b[39m\u001b[39mgoog\u001b[39m\u001b[39m\"\u001b[39m,\n\u001b[0;32m   (...)\u001b[0m\n\u001b[1;32m     54\u001b[0m     \u001b[39mself\u001b[39m\u001b[39m.\u001b[39mkeep_alive,\n\u001b[1;32m     55\u001b[0m )\n",
      "File \u001b[0;32m~/anaconda3/lib/python3.10/site-packages/selenium/webdriver/common/driver_finder.py:44\u001b[0m, in \u001b[0;36mDriverFinder.get_path\u001b[0;34m(service, options)\u001b[0m\n\u001b[1;32m     42\u001b[0m     path \u001b[39m=\u001b[39m SeleniumManager()\u001b[39m.\u001b[39mdriver_location(options) \u001b[39mif\u001b[39;00m path \u001b[39mis\u001b[39;00m \u001b[39mNone\u001b[39;00m \u001b[39melse\u001b[39;00m path\n\u001b[1;32m     43\u001b[0m \u001b[39mexcept\u001b[39;00m \u001b[39mException\u001b[39;00m \u001b[39mas\u001b[39;00m err:\n\u001b[0;32m---> 44\u001b[0m     \u001b[39mraise\u001b[39;00m NoSuchDriverException(\u001b[39mf\u001b[39m\u001b[39m\"\u001b[39m\u001b[39mUnable to obtain \u001b[39m\u001b[39m{\u001b[39;00mservice\u001b[39m.\u001b[39mpath\u001b[39m}\u001b[39;00m\u001b[39m using Selenium Manager; \u001b[39m\u001b[39m{\u001b[39;00merr\u001b[39m}\u001b[39;00m\u001b[39m\"\u001b[39m)\n\u001b[1;32m     46\u001b[0m \u001b[39mif\u001b[39;00m path \u001b[39mis\u001b[39;00m \u001b[39mNone\u001b[39;00m \u001b[39mor\u001b[39;00m \u001b[39mnot\u001b[39;00m Path(path)\u001b[39m.\u001b[39mis_file():\n\u001b[1;32m     47\u001b[0m     \u001b[39mraise\u001b[39;00m NoSuchDriverException(\u001b[39mf\u001b[39m\u001b[39m\"\u001b[39m\u001b[39mUnable to locate or obtain \u001b[39m\u001b[39m{\u001b[39;00mservice\u001b[39m.\u001b[39mpath\u001b[39m}\u001b[39;00m\u001b[39m\"\u001b[39m)\n",
      "\u001b[0;31mNoSuchDriverException\u001b[0m: Message: Unable to obtain chromedriver using Selenium Manager; 'str' object has no attribute 'capabilities'; For documentation on this error, please visit: https://www.selenium.dev/documentation/webdriver/troubleshooting/errors/driver_location\n"
     ]
    }
   ],
   "source": [
    "from selenium import webdriver\n",
    "from webdriver_manager.chrome import ChromeDriverManager\n",
    "from selenium.webdriver.chrome.service import Service\n",
    "DRIVER_PATH = \"/Python/ChromeDriver/chromedriver\"\n",
    "browser = None\n",
    "# This loads webdriver from the local machine if it exists.\n",
    "try:\n",
    "    browser = webdriver.Chrome(service=Service(DRIVER_PATH))\n",
    "    print(\"The path to webdriver_manager was found.\")\n",
    "# If a webdriver not found error occurs it is then downloaded.\n",
    "except:\n",
    "    print(\"webdriver not found. Update 'DRIVER_PATH' with file path in the download.\")\n",
    "    browser = webdriver.Chrome(ChromeDriverManager().install())"
   ]
  }
 ],
 "metadata": {
  "kernelspec": {
   "display_name": "base",
   "language": "python",
   "name": "python3"
  },
  "language_info": {
   "codemirror_mode": {
    "name": "ipython",
    "version": 3
   },
   "file_extension": ".py",
   "mimetype": "text/x-python",
   "name": "python",
   "nbconvert_exporter": "python",
   "pygments_lexer": "ipython3",
   "version": "3.10.11"
  },
  "orig_nbformat": 4
 },
 "nbformat": 4,
 "nbformat_minor": 2
}
